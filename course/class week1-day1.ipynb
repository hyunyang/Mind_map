{
 "cells": [
  {
   "cell_type": "markdown",
   "metadata": {},
   "source": [
    "# Python class"
   ]
  },
  {
   "cell_type": "code",
   "execution_count": null,
   "metadata": {
    "scrolled": false
   },
   "outputs": [],
   "source": [
    "123 + 321"
   ]
  },
  {
   "cell_type": "markdown",
   "metadata": {},
   "source": [
    "# 1. 기본 출력"
   ]
  },
  {
   "cell_type": "code",
   "execution_count": 1,
   "metadata": {},
   "outputs": [
    {
     "name": "stdout",
     "output_type": "stream",
     "text": [
      "my name is dean\n"
     ]
    }
   ],
   "source": [
    "print('my name is dean')"
   ]
  },
  {
   "cell_type": "code",
   "execution_count": 2,
   "metadata": {},
   "outputs": [
    {
     "name": "stdout",
     "output_type": "stream",
     "text": [
      "Hello python\n"
     ]
    }
   ],
   "source": [
    "print('Hello python')"
   ]
  },
  {
   "cell_type": "code",
   "execution_count": 3,
   "metadata": {},
   "outputs": [
    {
     "name": "stdout",
     "output_type": "stream",
     "text": [
      "1 2 3\n",
      "Hello Python\n"
     ]
    }
   ],
   "source": [
    "print(1, 2, 3)\n",
    "\n",
    "print('Hello', 'Python')"
   ]
  },
  {
   "cell_type": "code",
   "execution_count": 4,
   "metadata": {},
   "outputs": [
    {
     "name": "stdout",
     "output_type": "stream",
     "text": [
      "my name is dean\n"
     ]
    }
   ],
   "source": [
    "print('my','name','is','dean')"
   ]
  },
  {
   "cell_type": "code",
   "execution_count": 5,
   "metadata": {},
   "outputs": [
    {
     "name": "stdout",
     "output_type": "stream",
     "text": [
      "i am 1\n"
     ]
    }
   ],
   "source": [
    "print( 'i am' , 1 )"
   ]
  },
  {
   "cell_type": "markdown",
   "metadata": {},
   "source": [
    "# 2. 변수와 값 저장"
   ]
  },
  {
   "cell_type": "markdown",
   "metadata": {},
   "source": [
    "## 2-0 주석(comment)"
   ]
  },
  {
   "cell_type": "code",
   "execution_count": 6,
   "metadata": {},
   "outputs": [
    {
     "name": "stdout",
     "output_type": "stream",
     "text": [
      "10\n"
     ]
    }
   ],
   "source": [
    "age = 10 # assign value 10 in age variable.\n",
    "age = 20 \n",
    "age = 10\n",
    "\n",
    "print(age)"
   ]
  },
  {
   "cell_type": "markdown",
   "metadata": {},
   "source": [
    "## 2-1 정수(int) 값 저장"
   ]
  },
  {
   "cell_type": "code",
   "execution_count": 7,
   "metadata": {},
   "outputs": [
    {
     "data": {
      "text/plain": [
       "True"
      ]
     },
     "execution_count": 7,
     "metadata": {},
     "output_type": "execute_result"
    }
   ],
   "source": [
    "10 == 10"
   ]
  },
  {
   "cell_type": "code",
   "execution_count": 8,
   "metadata": {},
   "outputs": [
    {
     "name": "stdout",
     "output_type": "stream",
     "text": [
      "20\n"
     ]
    }
   ],
   "source": [
    "age = 20\n",
    "print(age)"
   ]
  },
  {
   "cell_type": "code",
   "execution_count": 9,
   "metadata": {},
   "outputs": [
    {
     "name": "stdout",
     "output_type": "stream",
     "text": [
      "---- Result ----\n",
      "20\n"
     ]
    }
   ],
   "source": [
    "age = 20\n",
    "\n",
    "print('---- Result ----')\n",
    "print(age)"
   ]
  },
  {
   "cell_type": "markdown",
   "metadata": {},
   "source": [
    "### i.g 통장에 100만원이 있다. 변수이름은  myAccount로 설정하고 balance를 저장하시오."
   ]
  },
  {
   "cell_type": "code",
   "execution_count": 10,
   "metadata": {},
   "outputs": [
    {
     "name": "stdout",
     "output_type": "stream",
     "text": [
      "---- Result ----\n",
      "1000000\n"
     ]
    }
   ],
   "source": [
    "myAccount = 1000000\n",
    "\n",
    "print('---- Result ----')\n",
    "print(myAccount)"
   ]
  },
  {
   "cell_type": "markdown",
   "metadata": {},
   "source": [
    "## 2-2 실수(float) 값 저장"
   ]
  },
  {
   "cell_type": "code",
   "execution_count": 11,
   "metadata": {
    "scrolled": true
   },
   "outputs": [
    {
     "name": "stdout",
     "output_type": "stream",
     "text": [
      "---- Result ----\n",
      "175.6\n"
     ]
    }
   ],
   "source": [
    "height = 175.6\n",
    "\n",
    "print('---- Result ----')\n",
    "print(height)"
   ]
  },
  {
   "cell_type": "code",
   "execution_count": 12,
   "metadata": {},
   "outputs": [
    {
     "name": "stdout",
     "output_type": "stream",
     "text": [
      "123.2\n",
      "123.2\n",
      "<class 'list'>\n",
      "[123.2, 122.5]\n",
      "[0, 1, 2, 3, 4, 5, 6, 7, 8, 9]\n"
     ]
    }
   ],
   "source": [
    "h1 = 123.2\n",
    "h2 = 122.5\n",
    "\n",
    "print(h1)\n",
    "\n",
    "student = [123.2,122.5]\n",
    "print(student[0])\n",
    "print(type(student))\n",
    "\n",
    "number = list(range(10))\n",
    "print(student)\n",
    "\n",
    "print(number)"
   ]
  },
  {
   "cell_type": "markdown",
   "metadata": {},
   "source": [
    "## 2-3 문자열(string) 값 저장"
   ]
  },
  {
   "cell_type": "code",
   "execution_count": 13,
   "metadata": {},
   "outputs": [
    {
     "name": "stdout",
     "output_type": "stream",
     "text": [
      "---- Result ----\n",
      "my name is dean\n"
     ]
    }
   ],
   "source": [
    "name = 'dean'\n",
    "\n",
    "print('---- Result ----')\n",
    "print('my','name is',name)"
   ]
  },
  {
   "cell_type": "code",
   "execution_count": 14,
   "metadata": {},
   "outputs": [
    {
     "name": "stdout",
     "output_type": "stream",
     "text": [
      "I live in seoul\n"
     ]
    }
   ],
   "source": [
    "city = \"seoul\"\n",
    "print(\"I\",'live','in',city)"
   ]
  },
  {
   "cell_type": "markdown",
   "metadata": {},
   "source": [
    "## 2-4 논리형(boolean) 저장"
   ]
  },
  {
   "cell_type": "code",
   "execution_count": 15,
   "metadata": {},
   "outputs": [
    {
     "name": "stdout",
     "output_type": "stream",
     "text": [
      "---- Result ----\n",
      "False\n"
     ]
    }
   ],
   "source": [
    "isHuman = False #True or False\n",
    "\n",
    "\n",
    "print('---- Result ----')\n",
    "print(isHuman)"
   ]
  },
  {
   "cell_type": "markdown",
   "metadata": {},
   "source": [
    "## 2-5 data type 확인 방법(type)"
   ]
  },
  {
   "cell_type": "code",
   "execution_count": null,
   "metadata": {
    "scrolled": true
   },
   "outputs": [],
   "source": [
    "print(type(name))\n",
    "\n",
    "number = 124215\n",
    "print(type(number))\n",
    "\n",
    "weight = 63.4456\n",
    "print(type(weight))\n",
    "\n",
    "print(type(False))\n",
    "\n",
    "age = '20'\n",
    "print(age)\n",
    "\n",
    "print('age type:',type(age))\n",
    "\n",
    "age + 20\n",
    "print(age)"
   ]
  },
  {
   "cell_type": "markdown",
   "metadata": {},
   "source": [
    "# 3. 사칙연산\n",
    " - ppt 참고(11p)"
   ]
  },
  {
   "cell_type": "code",
   "execution_count": 17,
   "metadata": {},
   "outputs": [
    {
     "name": "stdout",
     "output_type": "stream",
     "text": [
      "---- Result ----\n",
      "5\n",
      "1\n",
      "6\n",
      "1.5\n",
      "9\n",
      "1\n"
     ]
    }
   ],
   "source": [
    "data1 = 3\n",
    "data2 = 2\n",
    "\n",
    "print ('---- Result ----')\n",
    "print (data1 + data2)  # 더하기\n",
    "print (data1 - data2)  # 빼기\n",
    "print (data1 * data2)  # 곱하기\n",
    "print (data1 / data2)  # 나누기\n",
    "print (data1 ** data2) # 제곱\n",
    "print (data1 % data2)  # 나머지"
   ]
  },
  {
   "cell_type": "markdown",
   "metadata": {},
   "source": [
    "## 3-1 괄호 사용하기\n",
    " - 우선 순위를 명시적으로 표현"
   ]
  },
  {
   "cell_type": "code",
   "execution_count": 18,
   "metadata": {},
   "outputs": [
    {
     "name": "stdout",
     "output_type": "stream",
     "text": [
      "1) 35 + 1 * 2\n",
      "37\n",
      "2) (35 + 1) * 2\n",
      "72\n"
     ]
    }
   ],
   "source": [
    "print('1) 35 + 1 * 2')\n",
    "print(35 + 1 * 2)\n",
    "\n",
    "print('2) (35 + 1) * 2')\n",
    "print((35 + 1) * 2)"
   ]
  },
  {
   "cell_type": "markdown",
   "metadata": {},
   "source": [
    "# 4. 여러 문자열들 연결하기\n",
    " - +을 이용"
   ]
  },
  {
   "cell_type": "code",
   "execution_count": 19,
   "metadata": {},
   "outputs": [
    {
     "name": "stdout",
     "output_type": "stream",
     "text": [
      "---- Result ----\n",
      "Hello World\n",
      "Hello World\n",
      "result:  Hello World\n"
     ]
    }
   ],
   "source": [
    "str1 = \"Hello\"\n",
    "str2 = \"World\"\n",
    "\n",
    "print('---- Result ----')\n",
    "print(str1 + ' ' + str2)  # 더하기\n",
    "print(str1,str2)\n",
    "\n",
    "\n",
    "result = str1 + ' ' + str2\n",
    "print('result: ',result)\n"
   ]
  },
  {
   "cell_type": "code",
   "execution_count": 20,
   "metadata": {},
   "outputs": [
    {
     "name": "stdout",
     "output_type": "stream",
     "text": [
      "Enter a name: \n",
      "your name is10\n"
     ]
    }
   ],
   "source": [
    "name = input('Enter a name: ')\n",
    "base = 'your name is'\n",
    "age = 10\n",
    "\n",
    "print(base+name+str(age))"
   ]
  },
  {
   "cell_type": "code",
   "execution_count": null,
   "metadata": {
    "scrolled": false
   },
   "outputs": [],
   "source": [
    "11:20 Nov 12, 2019 => 정수형 변환 or 문자열\n",
    "\n",
    "시간 분 초 년 월 일 beginToContact\n",
    "11 20 00 2019 11 12 M\n",
    "11 22 32 2019 11 12 F"
   ]
  },
  {
   "cell_type": "markdown",
   "metadata": {},
   "source": [
    "# 5. 문자열 반복하기\n",
    " - escape code ppt 참고(12p)"
   ]
  },
  {
   "cell_type": "code",
   "execution_count": 22,
   "metadata": {},
   "outputs": [
    {
     "name": "stdout",
     "output_type": "stream",
     "text": [
      "Hello! \n",
      "\n",
      "Hello! \n",
      "\n",
      "Hello! \n",
      "\n",
      "Hello! \n",
      "\n",
      "Hello! \n",
      "\n",
      "---- Result ----\n",
      "Hello! \n",
      "Hello! \n",
      "Hello! \n",
      "Hello! \n",
      "Hello! \n",
      "\n"
     ]
    }
   ],
   "source": [
    "data = \"Hello! \\n\" # \\n은 줄을 바꾸라는 의미\n",
    "print(data)\n",
    "print(data)\n",
    "print(data)\n",
    "print(data)\n",
    "print(data)\n",
    "\n",
    "print('---- Result ----')\n",
    "print(data * 5)"
   ]
  },
  {
   "cell_type": "markdown",
   "metadata": {},
   "source": [
    "# 6. 문자열 슬라이싱\n",
    " - ppt 참고(13p)"
   ]
  },
  {
   "cell_type": "code",
   "execution_count": 23,
   "metadata": {},
   "outputs": [
    {
     "name": "stdout",
     "output_type": "stream",
     "text": [
      "---- Result ----\n",
      "Hello World\n",
      "H\n",
      "l\n",
      "ell\n",
      "ello W\n",
      "ello World\n",
      "ello World\n",
      "ello World\n"
     ]
    },
    {
     "data": {
      "text/plain": [
       "11"
      ]
     },
     "execution_count": 23,
     "metadata": {},
     "output_type": "execute_result"
    }
   ],
   "source": [
    "data = \"Hello World\"\n",
    "\n",
    "\n",
    "print ('---- Result ----')\n",
    "print (data)\n",
    "print (data[0])\n",
    "print (data[3])\n",
    "print (data[1:4])\n",
    "print(data[1:7])\n",
    "print(data[1:len(data)])\n",
    "print(data[1:11])\n",
    "print(data[1:])\n",
    "len(data)"
   ]
  },
  {
   "cell_type": "code",
   "execution_count": 24,
   "metadata": {},
   "outputs": [
    {
     "name": "stdout",
     "output_type": "stream",
     "text": [
      "<class 'type'>\n"
     ]
    }
   ],
   "source": [
    "height = 172\n",
    "print(type)"
   ]
  },
  {
   "cell_type": "markdown",
   "metadata": {},
   "source": [
    "### i.g 문자열 슬라이싱 활용"
   ]
  },
  {
   "cell_type": "code",
   "execution_count": 25,
   "metadata": {},
   "outputs": [
    {
     "name": "stdout",
     "output_type": "stream",
     "text": [
      "---- Result ----\n",
      "Hell\n",
      "Hello\n",
      "World\n",
      "d\n"
     ]
    }
   ],
   "source": [
    "data = \"Hello World\"\n",
    "\n",
    "print('---- Result ----')\n",
    "print(data[0:4]) # Hell\n",
    "print(data[:5]) # Hello\n",
    "print(data[6:]) #World\n",
    "print(data[-1]) #\"Hello Worl\""
   ]
  },
  {
   "cell_type": "markdown",
   "metadata": {},
   "source": [
    "# 7. 문자열 함수 예제\n",
    " - ppt 참고(14p)"
   ]
  },
  {
   "cell_type": "code",
   "execution_count": 26,
   "metadata": {},
   "outputs": [
    {
     "name": "stdout",
     "output_type": "stream",
     "text": [
      "---- Result ----\n",
      "32\n",
      "3\n",
      "2\n",
      " MY FAVORITE LANGUAGE IS PYTHON \n",
      " my favorite language is python \n",
      "My favorite language is python\n",
      " My favorite language is java \n",
      "['My', 'favorite', 'language', 'is', 'python']\n"
     ]
    }
   ],
   "source": [
    "sample = \" My favorite language is python \"\n",
    "\n",
    "print('---- Result ----')\n",
    "print(len(sample))\n",
    "print(sample.count('a'))\n",
    "print(sample.index('y'))\n",
    "print(sample.upper())\n",
    "print(sample.lower())\n",
    "print(sample.strip())\n",
    "print(sample.replace(\"python\", \"java\"))\n",
    "print(sample.split())"
   ]
  },
  {
   "cell_type": "markdown",
   "metadata": {},
   "source": [
    "# 7- 파일 입출력"
   ]
  },
  {
   "cell_type": "code",
   "execution_count": 27,
   "metadata": {},
   "outputs": [
    {
     "name": "stdout",
     "output_type": "stream",
     "text": [
      "<class '_io.TextIOWrapper'>\n",
      "시간 분 초 년 월 일 beginToContact\n",
      "['시간', '분', '초', '년', '월', '일', 'beginToContact']\n",
      "11:20 Nov 12, 2019 M\n",
      "\n",
      "['11:20', 'Nov', '12,', '2019', 'M']\n"
     ]
    }
   ],
   "source": [
    "f = open('./sample.txt','r')\n",
    "print(type(f))\n",
    "\n",
    "header = f.readline()\n",
    "header.split('\\n')[0].split()\n",
    "print(header.split('\\n')[0])\n",
    "print(header.split('\\n')[0].split())\n",
    "\n",
    "line = f.readline()\n",
    "print(line)\n",
    "print(line.split())\n",
    "\n",
    "f.close()"
   ]
  },
  {
   "cell_type": "code",
   "execution_count": 28,
   "metadata": {},
   "outputs": [],
   "source": [
    "f = open('./sample2.txt','w')\n",
    "\n",
    "f.write('시간 분 초 년 월 일 beginToContact\\n')\n",
    "f.write('11:20 Nov 12, 2019 M')\n",
    "\n",
    "f.close()"
   ]
  },
  {
   "cell_type": "markdown",
   "metadata": {},
   "source": [
    "# 8. 데이터 형변환(cast)"
   ]
  },
  {
   "cell_type": "markdown",
   "metadata": {},
   "source": [
    "## 8-1 정수형, 실수형 -> 문자열 형변환"
   ]
  },
  {
   "cell_type": "code",
   "execution_count": 29,
   "metadata": {},
   "outputs": [
    {
     "name": "stdout",
     "output_type": "stream",
     "text": [
      "정수형 -> 문자열 (str()함수 사용)\n",
      "20\n",
      "<class 'int'>\n",
      "--- after casting ---\n",
      "20\n",
      "20\n",
      "20\n",
      "20\n",
      "\n",
      "20\n",
      "20\n",
      "20\n",
      "<class 'str'>\n",
      "<class 'str'>\n"
     ]
    }
   ],
   "source": [
    "print('정수형 -> 문자열 (str()함수 사용)')\n",
    "age = 20\n",
    "print(age)\n",
    "print(type(age)) #int\n",
    "\n",
    "print(\"--- after casting ---\")\n",
    "aStr =str(age)\n",
    "print(aStr)\n",
    "\n",
    "#print(str(age),str(age),str(age),sep=\"\\n\")\n",
    "\n",
    "aStr = aStr + \"\\n\"\n",
    "\n",
    "print(aStr*3)\n",
    "\n",
    "for i in list(range(3)):\n",
    "    print(str(age),sep=\"\\n\")\n",
    "    \n",
    "print(type(str(age)))\n",
    "print(type(aStr))"
   ]
  },
  {
   "cell_type": "markdown",
   "metadata": {},
   "source": [
    "## 8-2 문자열 -> 정수형 (int()) 형변환 , 실수형(float())"
   ]
  },
  {
   "cell_type": "code",
   "execution_count": 30,
   "metadata": {
    "scrolled": false
   },
   "outputs": [
    {
     "name": "stdout",
     "output_type": "stream",
     "text": [
      "문자열 -> 정수형 형변환(int() 함수 사용)\n",
      "20\n",
      "<class 'str'>\n",
      "--- after casting ---\n",
      "20\n",
      "<class 'int'>\n",
      "--- after casting ---\n",
      "20.0\n",
      "<class 'float'>\n"
     ]
    }
   ],
   "source": [
    "print('문자열 -> 정수형 형변환(int() 함수 사용)')\n",
    "age = '20'\n",
    "print(age)\n",
    "print(type(age))\n",
    "\n",
    "print(\"--- after casting ---\")\n",
    "\n",
    "print(int(age))\n",
    "print(type(int(age)))\n",
    "\n",
    "print(\"--- after casting ---\")\n",
    "\n",
    "print(float(age))\n",
    "print(type(float(age)))\n"
   ]
  },
  {
   "cell_type": "code",
   "execution_count": 31,
   "metadata": {},
   "outputs": [
    {
     "name": "stdout",
     "output_type": "stream",
     "text": [
      "('a', 'b', 'c')\n",
      "['a', 'b', 'c']\n"
     ]
    }
   ],
   "source": [
    "#list, tuple\n",
    "#문자열 -> 리스트, 튜플\n",
    "str = \"abc\"\n",
    "print(tuple(str))\n",
    "print(list(str))"
   ]
  },
  {
   "cell_type": "code",
   "execution_count": null,
   "metadata": {
    "scrolled": true
   },
   "outputs": [],
   "source": [
    "temp = 20.0\n",
    "print(temp)\n",
    "aTemp = str(temp) + \"00\"\n",
    "print(aTemp)\n",
    "\n",
    "print(float(aTemp))"
   ]
  },
  {
   "cell_type": "markdown",
   "metadata": {},
   "source": [
    "## 캐스팅이 필요한 이유"
   ]
  },
  {
   "cell_type": "markdown",
   "metadata": {},
   "source": [
    "### 오류 상황"
   ]
  },
  {
   "cell_type": "code",
   "execution_count": 33,
   "metadata": {},
   "outputs": [
    {
     "name": "stdout",
     "output_type": "stream",
     "text": [
      "20num\n"
     ]
    }
   ],
   "source": [
    "age = '20'\n",
    "parentAge = age + 'num'\n",
    "print(parentAge)"
   ]
  },
  {
   "cell_type": "markdown",
   "metadata": {},
   "source": [
    "### 해결방안"
   ]
  },
  {
   "cell_type": "code",
   "execution_count": 34,
   "metadata": {},
   "outputs": [
    {
     "name": "stdout",
     "output_type": "stream",
     "text": [
      "50\n"
     ]
    }
   ],
   "source": [
    "age = '20'\n",
    "parentAge = int(age) + 30\n",
    "print(parentAge)"
   ]
  },
  {
   "cell_type": "markdown",
   "metadata": {},
   "source": [
    "# 9. 여러 타입 데이터 연결하기"
   ]
  },
  {
   "cell_type": "code",
   "execution_count": null,
   "metadata": {
    "scrolled": true
   },
   "outputs": [],
   "source": [
    "age = 20        #정수형\n",
    "name = 'dean'   #문자열\n",
    "height = 175.6  #실수형\n",
    "\n",
    "profile = 'my name is ' + name + '. I am ' + str(age) + ' years old and ' + str(height) + ' tall.'\n",
    "\n",
    "print(profile)"
   ]
  },
  {
   "cell_type": "markdown",
   "metadata": {},
   "source": [
    "# 10. 논리 연산자"
   ]
  },
  {
   "cell_type": "code",
   "execution_count": 36,
   "metadata": {},
   "outputs": [
    {
     "name": "stdout",
     "output_type": "stream",
     "text": [
      "--- and operator ---\n",
      "True\n",
      "False\n",
      "False\n",
      "False\n",
      "--- or operator ---\n",
      "True\n",
      "True\n",
      "True\n",
      "False\n",
      "--- not operator ---\n",
      "False\n",
      "True\n"
     ]
    }
   ],
   "source": [
    "print('--- and operator ---')\n",
    "print(True and True)\n",
    "print(True and False)\n",
    "print(False and True)\n",
    "print(False and False)\n",
    "\n",
    "print('--- or operator ---')\n",
    "print(True or True)\n",
    "print(True or False)\n",
    "print(False or True)\n",
    "print(False or False)\n",
    "\n",
    "print('--- not operator ---')\n",
    "print(not True)\n",
    "print(not False)"
   ]
  },
  {
   "cell_type": "markdown",
   "metadata": {},
   "source": [
    "### i.g complex logical expression"
   ]
  },
  {
   "cell_type": "code",
   "execution_count": 37,
   "metadata": {},
   "outputs": [
    {
     "name": "stdout",
     "output_type": "stream",
     "text": [
      "not True and False or not False\n",
      "(not True) and False or (not False)\n",
      "False and False or True\n",
      "(False and False) or True\n",
      "False or True\n",
      "True\n"
     ]
    }
   ],
   "source": [
    "print('not True and False or not False')\n",
    "print('(not True) and False or (not False)')\n",
    "print('False and False or True')\n",
    "print('(False and False) or True')\n",
    "print('False or True')\n",
    "print('True')"
   ]
  },
  {
   "cell_type": "markdown",
   "metadata": {},
   "source": [
    "# 11 비교 연산자\n",
    " - ppt참고(15p)"
   ]
  },
  {
   "cell_type": "code",
   "execution_count": 38,
   "metadata": {},
   "outputs": [
    {
     "name": "stdout",
     "output_type": "stream",
     "text": [
      "False\n",
      "True\n",
      "False\n",
      "True\n"
     ]
    }
   ],
   "source": [
    "print(10 > 20) #F\n",
    "print(10 < 20) #T\n",
    "print(10 == 20) #F\n",
    "print(10 != 20) #t"
   ]
  },
  {
   "cell_type": "markdown",
   "metadata": {},
   "source": [
    "# 12 사용자 입력받기\n",
    " - input() 사용"
   ]
  },
  {
   "cell_type": "code",
   "execution_count": 39,
   "metadata": {},
   "outputs": [
    {
     "name": "stdout",
     "output_type": "stream",
     "text": [
      "\n"
     ]
    },
    {
     "data": {
      "text/plain": [
       "''"
      ]
     },
     "execution_count": 39,
     "metadata": {},
     "output_type": "execute_result"
    }
   ],
   "source": [
    "input()"
   ]
  },
  {
   "cell_type": "markdown",
   "metadata": {},
   "source": [
    "## 12-1 사용자 입력 저장하기"
   ]
  },
  {
   "cell_type": "code",
   "execution_count": 40,
   "metadata": {},
   "outputs": [
    {
     "name": "stdout",
     "output_type": "stream",
     "text": [
      "\n",
      "\n"
     ]
    }
   ],
   "source": [
    "x = input()\n",
    "print(x)"
   ]
  },
  {
   "cell_type": "markdown",
   "metadata": {},
   "source": [
    "### i.g 사용자에게 이름을 입력받아 출력하시오."
   ]
  },
  {
   "cell_type": "code",
   "execution_count": 41,
   "metadata": {},
   "outputs": [
    {
     "name": "stdout",
     "output_type": "stream",
     "text": [
      "\n",
      "oh, your name is \n"
     ]
    }
   ],
   "source": [
    "name = input()\n",
    "print('oh, your name is ' + name)"
   ]
  },
  {
   "cell_type": "markdown",
   "metadata": {},
   "source": [
    "### i.g 사용자에게 숫자를 입력받아 50을 덧셈하여 출력하시오."
   ]
  },
  {
   "cell_type": "code",
   "execution_count": null,
   "metadata": {
    "scrolled": true
   },
   "outputs": [],
   "source": [
    "num = input('Enter a number: ')\n",
    "result = int(num) + 50\n",
    "print(result)"
   ]
  },
  {
   "cell_type": "markdown",
   "metadata": {},
   "source": [
    "### i.g 사용자에게 숫자 2개를 입력받아 더하는 프로그램을 작성하시오."
   ]
  },
  {
   "cell_type": "markdown",
   "metadata": {},
   "source": [
    "### 캐스팅이 필요한 이유2"
   ]
  },
  {
   "cell_type": "code",
   "execution_count": 43,
   "metadata": {},
   "outputs": [
    {
     "name": "stdout",
     "output_type": "stream",
     "text": [
      "Enter first number: \n",
      "Enter second number: \n",
      "\n"
     ]
    }
   ],
   "source": [
    "num1 = input('Enter first number: ')\n",
    "num2 = input('Enter second number: ')\n",
    "result = num1 + num2\n",
    "\n",
    "print(result)"
   ]
  },
  {
   "cell_type": "code",
   "execution_count": 44,
   "metadata": {},
   "outputs": [
    {
     "name": "stdout",
     "output_type": "stream",
     "text": [
      "Enter first number: \n",
      "Enter second number: \n"
     ]
    },
    {
     "ename": "ValueError",
     "evalue": "invalid literal for int() with base 10: ''",
     "output_type": "error",
     "traceback": [
      "\u001b[0;31m---------------------------------------------------------------------------\u001b[0m",
      "\u001b[0;31mValueError\u001b[0m                                Traceback (most recent call last)",
      "\u001b[0;32m<ipython-input-44-9104f9c4991e>\u001b[0m in \u001b[0;36m<module>\u001b[0;34m\u001b[0m\n\u001b[1;32m      1\u001b[0m \u001b[0mnum1\u001b[0m \u001b[0;34m=\u001b[0m \u001b[0minput\u001b[0m\u001b[0;34m(\u001b[0m\u001b[0;34m'Enter first number: '\u001b[0m\u001b[0;34m)\u001b[0m\u001b[0;34m\u001b[0m\u001b[0m\n\u001b[1;32m      2\u001b[0m \u001b[0mnum2\u001b[0m \u001b[0;34m=\u001b[0m \u001b[0minput\u001b[0m\u001b[0;34m(\u001b[0m\u001b[0;34m'Enter second number: '\u001b[0m\u001b[0;34m)\u001b[0m\u001b[0;34m\u001b[0m\u001b[0m\n\u001b[0;32m----> 3\u001b[0;31m \u001b[0mresult\u001b[0m \u001b[0;34m=\u001b[0m \u001b[0mint\u001b[0m\u001b[0;34m(\u001b[0m\u001b[0mnum1\u001b[0m\u001b[0;34m)\u001b[0m \u001b[0;34m+\u001b[0m \u001b[0mint\u001b[0m\u001b[0;34m(\u001b[0m\u001b[0mnum2\u001b[0m\u001b[0;34m)\u001b[0m\u001b[0;34m\u001b[0m\u001b[0m\n\u001b[0m\u001b[1;32m      4\u001b[0m \u001b[0;34m\u001b[0m\u001b[0m\n\u001b[1;32m      5\u001b[0m \u001b[0mprint\u001b[0m\u001b[0;34m(\u001b[0m\u001b[0mresult\u001b[0m\u001b[0;34m)\u001b[0m\u001b[0;34m\u001b[0m\u001b[0m\n",
      "\u001b[0;31mValueError\u001b[0m: invalid literal for int() with base 10: ''"
     ]
    }
   ],
   "source": [
    "num1 = input('Enter first number: ')\n",
    "num2 = input('Enter second number: ')\n",
    "result = int(num1) + int(num2)\n",
    "\n",
    "print(result)"
   ]
  },
  {
   "cell_type": "markdown",
   "metadata": {},
   "source": [
    "# 두 변수가 담은 값를 변경해보시오. (변수 하나를 더 이용해서)"
   ]
  },
  {
   "cell_type": "code",
   "execution_count": 45,
   "metadata": {},
   "outputs": [],
   "source": [
    "a = 10\n",
    "b = 20"
   ]
  },
  {
   "cell_type": "code",
   "execution_count": 46,
   "metadata": {},
   "outputs": [
    {
     "name": "stdout",
     "output_type": "stream",
     "text": [
      "10\n",
      "20\n"
     ]
    }
   ],
   "source": [
    "print(a) #10\n",
    "print(b) #20"
   ]
  },
  {
   "cell_type": "code",
   "execution_count": 47,
   "metadata": {},
   "outputs": [
    {
     "name": "stdout",
     "output_type": "stream",
     "text": [
      "20\n",
      "10\n"
     ]
    }
   ],
   "source": [
    "a,b = b,a\n",
    "print(a)\n",
    "print(b)"
   ]
  },
  {
   "cell_type": "code",
   "execution_count": 48,
   "metadata": {},
   "outputs": [
    {
     "name": "stdout",
     "output_type": "stream",
     "text": [
      "10\n",
      "20\n"
     ]
    }
   ],
   "source": [
    "c = a\n",
    "a = b\n",
    "b = c\n",
    "\n",
    "print(a)\n",
    "print(b)"
   ]
  },
  {
   "cell_type": "code",
   "execution_count": null,
   "metadata": {},
   "outputs": [],
   "source": []
  },
  {
   "cell_type": "code",
   "execution_count": null,
   "metadata": {},
   "outputs": [],
   "source": []
  }
 ],
 "metadata": {
  "kernelspec": {
   "display_name": "Python 3",
   "language": "python",
   "name": "python3"
  },
  "language_info": {
   "codemirror_mode": {
    "name": "ipython",
    "version": 3
   },
   "file_extension": ".py",
   "mimetype": "text/x-python",
   "name": "python",
   "nbconvert_exporter": "python",
   "pygments_lexer": "ipython3",
   "version": "3.6.6"
  },
  "widgets": {
   "application/vnd.jupyter.widget-state+json": {
    "state": {},
    "version_major": 2,
    "version_minor": 0
   }
  }
 },
 "nbformat": 4,
 "nbformat_minor": 2
}
