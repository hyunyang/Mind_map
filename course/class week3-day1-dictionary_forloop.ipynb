{
 "cells": [
  {
   "cell_type": "markdown",
   "metadata": {},
   "source": [
    "# Dictionary"
   ]
  },
  {
   "cell_type": "markdown",
   "metadata": {},
   "source": [
    "## list data type(review)"
   ]
  },
  {
   "cell_type": "code",
   "execution_count": 1,
   "metadata": {},
   "outputs": [
    {
     "name": "stdout",
     "output_type": "stream",
     "text": [
      "490\n"
     ]
    }
   ],
   "source": [
    "lux = [490, 334, 550, 18.72]\n",
    "print(lux[0])"
   ]
  },
  {
   "cell_type": "markdown",
   "metadata": {},
   "source": [
    "# 1-1 dictionary data type"
   ]
  },
  {
   "cell_type": "code",
   "execution_count": 2,
   "metadata": {},
   "outputs": [],
   "source": [
    "lux2 = {'health': 490, 'mana': 334, 'melee': 550, 'armor': 18.72}"
   ]
  },
  {
   "cell_type": "code",
   "execution_count": 8,
   "metadata": {},
   "outputs": [
    {
     "name": "stdout",
     "output_type": "stream",
     "text": [
      "[490, 334, 550, 18.72]\n",
      "<class 'list'>\n",
      "490\n"
     ]
    }
   ],
   "source": [
    "print(lux)\n",
    "print(type(lux))\n",
    "print(lux2[\"health\"])"
   ]
  },
  {
   "cell_type": "code",
   "execution_count": 10,
   "metadata": {},
   "outputs": [
    {
     "name": "stdout",
     "output_type": "stream",
     "text": [
      "490\n",
      "334\n",
      "550\n",
      "18.72\n"
     ]
    }
   ],
   "source": [
    "print(lux2[\"health\"])\n",
    "print(lux2[\"mana\"])\n",
    "print(lux2[\"melee\"])\n",
    "print(lux2[\"armor\"])"
   ]
  },
  {
   "cell_type": "markdown",
   "metadata": {},
   "source": [
    "## dictionary key가 중복일 경우"
   ]
  },
  {
   "cell_type": "code",
   "execution_count": 11,
   "metadata": {},
   "outputs": [
    {
     "name": "stdout",
     "output_type": "stream",
     "text": [
      "{'health': 490, 'mana': 334, 'melee': 550, 'armor': 18.72}\n"
     ]
    }
   ],
   "source": [
    "lux = {'health': 800, 'health': 490, 'mana': 334, 'melee': 550, 'armor': 18.72}\n",
    "print(lux)"
   ]
  },
  {
   "cell_type": "markdown",
   "metadata": {},
   "source": [
    "## dictionary의 키로 리스트나 또다른 dictionary는 사용할 수 없음"
   ]
  },
  {
   "cell_type": "code",
   "execution_count": 12,
   "metadata": {},
   "outputs": [
    {
     "ename": "TypeError",
     "evalue": "unhashable type: 'list'",
     "output_type": "error",
     "traceback": [
      "\u001b[0;31m---------------------------------------------------------------------------\u001b[0m",
      "\u001b[0;31mTypeError\u001b[0m                                 Traceback (most recent call last)",
      "\u001b[0;32m<ipython-input-12-df1aded7ae36>\u001b[0m in \u001b[0;36m<module>\u001b[0;34m\u001b[0m\n\u001b[0;32m----> 1\u001b[0;31m \u001b[0mx\u001b[0m \u001b[0;34m=\u001b[0m \u001b[0;34m{\u001b[0m\u001b[0;34m[\u001b[0m\u001b[0;36m10\u001b[0m\u001b[0;34m,\u001b[0m \u001b[0;36m20\u001b[0m\u001b[0;34m]\u001b[0m\u001b[0;34m:\u001b[0m \u001b[0;36m100\u001b[0m\u001b[0;34m}\u001b[0m\u001b[0;34m\u001b[0m\u001b[0m\n\u001b[0m",
      "\u001b[0;31mTypeError\u001b[0m: unhashable type: 'list'"
     ]
    }
   ],
   "source": [
    "x = {[10, 20]: 100}"
   ]
  },
  {
   "cell_type": "code",
   "execution_count": 13,
   "metadata": {},
   "outputs": [
    {
     "ename": "TypeError",
     "evalue": "unhashable type: 'dict'",
     "output_type": "error",
     "traceback": [
      "\u001b[0;31m---------------------------------------------------------------------------\u001b[0m",
      "\u001b[0;31mTypeError\u001b[0m                                 Traceback (most recent call last)",
      "\u001b[0;32m<ipython-input-13-159bfb38ec33>\u001b[0m in \u001b[0;36m<module>\u001b[0;34m\u001b[0m\n\u001b[0;32m----> 1\u001b[0;31m \u001b[0mx\u001b[0m \u001b[0;34m=\u001b[0m \u001b[0;34m{\u001b[0m\u001b[0;34m{\u001b[0m\u001b[0;34m'a'\u001b[0m\u001b[0;34m:\u001b[0m \u001b[0;36m10\u001b[0m\u001b[0;34m}\u001b[0m\u001b[0;34m:\u001b[0m \u001b[0;36m100\u001b[0m\u001b[0;34m}\u001b[0m\u001b[0;34m\u001b[0m\u001b[0m\n\u001b[0m",
      "\u001b[0;31mTypeError\u001b[0m: unhashable type: 'dict'"
     ]
    }
   ],
   "source": [
    "x = {{'a': 10}: 100}"
   ]
  },
  {
   "cell_type": "markdown",
   "metadata": {},
   "source": [
    "## 1-2 dict()함수를 이용한 dictionary data만들기"
   ]
  },
  {
   "cell_type": "code",
   "execution_count": 22,
   "metadata": {},
   "outputs": [
    {
     "name": "stdout",
     "output_type": "stream",
     "text": [
      "Enter: name\n",
      "{'name': 'dean', 'age': 30, 'money': 150, 'height': 173, 'friends': ['JK', 'Tiger', 'spider']}\n",
      "<class 'dict'>\n",
      "dean\n",
      "['JK', 'Tiger', 'spider']\n",
      "dean\n",
      "150\n",
      "dean\n"
     ]
    }
   ],
   "source": [
    "student1 = dict(name=\"dean\", age=30, money=150, height=173, friends =[\"JK\", \"Tiger\",\"spider\"])\n",
    "wantToExtractKey = input(\"Enter: \")\n",
    "\n",
    "print(student1)\n",
    "print(type(student1))\n",
    "print(student1[wantToExtractKey])\n",
    "\n",
    "print(student1[\"friends\"]) #student1[0], [1], [2]\n",
    "print(student1[\"name\"])\n",
    "print(student1[\"money\"])\n",
    "\n",
    "if wantToExtractKey == \"name\":\n",
    "    print(student1[\"name\"])\n"
   ]
  },
  {
   "cell_type": "code",
   "execution_count": 26,
   "metadata": {},
   "outputs": [
    {
     "name": "stdout",
     "output_type": "stream",
     "text": [
      "{'name': 'dean', 'friends': 30, 'money': 150, 'height': 173}\n"
     ]
    }
   ],
   "source": [
    "student2 = dict(zip(['name','friends','money','height'], [\"dean\",30,150,173,[\"JK\", \"Tiger\",\"spider\"]]))\n",
    "print(student2)"
   ]
  },
  {
   "cell_type": "code",
   "execution_count": 27,
   "metadata": {},
   "outputs": [
    {
     "name": "stdout",
     "output_type": "stream",
     "text": [
      "{'health': 490, 'mana': 334, 'melee': 550, 'armor': 18.72}\n"
     ]
    }
   ],
   "source": [
    "lux3 = dict([('health', 490), ('mana', 334), ('melee', 550), ('armor', 18.72)])\n",
    "print(lux3)"
   ]
  },
  {
   "cell_type": "markdown",
   "metadata": {},
   "source": [
    "## 1-3 빈 딕셔너리 만들기"
   ]
  },
  {
   "cell_type": "code",
   "execution_count": 28,
   "metadata": {},
   "outputs": [
    {
     "name": "stdout",
     "output_type": "stream",
     "text": [
      "{}\n",
      "{}\n"
     ]
    }
   ],
   "source": [
    "x = {}\n",
    "y = dict()\n",
    "\n",
    "print(x)\n",
    "print(y)"
   ]
  },
  {
   "cell_type": "markdown",
   "metadata": {},
   "source": [
    "## 1-4 딕셔너리의 키에 값 할당하기"
   ]
  },
  {
   "cell_type": "code",
   "execution_count": 34,
   "metadata": {},
   "outputs": [
    {
     "name": "stdout",
     "output_type": "stream",
     "text": [
      "{}\n",
      "{'name': 'yang'}\n",
      "{'name': 'dean'}\n",
      "{'name': 'dean', 'age': 33}\n"
     ]
    }
   ],
   "source": [
    "person = {}\n",
    "print(person)\n",
    "\n",
    "person[\"name\"] = \"yang\"\n",
    "print(person)\n",
    "\n",
    "person[\"name\"] = \"dean\"\n",
    "print(person)\n",
    "\n",
    "person[\"age\"] = 33\n",
    "print(person)"
   ]
  },
  {
   "cell_type": "markdown",
   "metadata": {},
   "source": [
    "### 이미 존재하는 키 값의 데이터 변경하기"
   ]
  },
  {
   "cell_type": "code",
   "execution_count": 36,
   "metadata": {},
   "outputs": [
    {
     "name": "stdout",
     "output_type": "stream",
     "text": [
      "before update:  {'name': 'yang', 'age': 33}\n",
      "after update:  {'name': 'yang', 'age': 30}\n"
     ]
    }
   ],
   "source": [
    "person = {'name': 'yang', 'age': 33}\n",
    "print('before update: ',person)\n",
    "\n",
    "person[\"age\"] = 30\n",
    "print(\"after update: \",person)"
   ]
  },
  {
   "cell_type": "markdown",
   "metadata": {},
   "source": [
    "## 1-5 딕셔너리에 키가 있는지 확인하기(매우 중요)"
   ]
  },
  {
   "cell_type": "code",
   "execution_count": 43,
   "metadata": {},
   "outputs": [
    {
     "name": "stdout",
     "output_type": "stream",
     "text": [
      "'health' in lux:\t True\n",
      "'attack_speed' in lux:\t False\n",
      "490\n",
      "'attack_speed' not in lux:\t  True\n"
     ]
    }
   ],
   "source": [
    "lux = {'health': 490, 'mana': 334, 'melee': 550, 'armor': 18.72} #initialization.\n",
    "\n",
    "print(\"'health' in lux:\\t\",'health' in lux)\n",
    "print(\"'attack_speed' in lux:\\t\",'attack_speed' in lux)\n",
    "\n",
    "if 'health' in lux:\n",
    "    print(lux['health'])\n",
    "else:\n",
    "    print(\"It doesn't have key name.\")\n",
    "    \n",
    "    \n",
    "print(\"'attack_speed' not in lux:\\t \",'attack_speed' not in lux)    "
   ]
  },
  {
   "cell_type": "code",
   "execution_count": null,
   "metadata": {},
   "outputs": [],
   "source": []
  },
  {
   "cell_type": "markdown",
   "metadata": {},
   "source": [
    "## 1-6 딕셔너리의 키 개수 구하기"
   ]
  },
  {
   "cell_type": "code",
   "execution_count": 1,
   "metadata": {},
   "outputs": [
    {
     "name": "stdout",
     "output_type": "stream",
     "text": [
      "4\n"
     ]
    }
   ],
   "source": [
    "lux = {'health': 490, 'mana': 334, 'melee': 550, 'armor': [18.72,123.3]}\n",
    "print(len(lux))"
   ]
  },
  {
   "cell_type": "markdown",
   "metadata": {},
   "source": [
    "## 1-7 dictionary 모든 key의 값들 출력하기(매우 중요)"
   ]
  },
  {
   "cell_type": "code",
   "execution_count": 2,
   "metadata": {},
   "outputs": [
    {
     "data": {
      "text/plain": [
       "dict_keys(['health', 'mana', 'melee', 'armor'])"
      ]
     },
     "execution_count": 2,
     "metadata": {},
     "output_type": "execute_result"
    }
   ],
   "source": [
    "lux.keys()"
   ]
  },
  {
   "cell_type": "code",
   "execution_count": 1,
   "metadata": {},
   "outputs": [
    {
     "name": "stdout",
     "output_type": "stream",
     "text": [
      "{'health': 490, 'mana': 334, 'melee': 550, 'armor': 18.72}\n",
      "health : 490\n",
      "mana : 334\n",
      "melee : 550\n",
      "armor : 18.72\n"
     ]
    }
   ],
   "source": [
    "luxa = {'health': 490, 'mana': 334, 'melee': 550, 'armor': 18.72}\n",
    "print(luxa)\n",
    "\n",
    "for key in ['health', 'mana', 'melee', 'armor']:\n",
    "    print(key, \":\" , luxa[key])"
   ]
  },
  {
   "cell_type": "markdown",
   "metadata": {},
   "source": [
    "## 1-8 특정 키의 값 변경"
   ]
  },
  {
   "cell_type": "code",
   "execution_count": 53,
   "metadata": {},
   "outputs": [
    {
     "name": "stdout",
     "output_type": "stream",
     "text": [
      "{'health': 490, 'mana': 334, 'melee': 550, 'armor': 18.72}\n",
      "health : 490\n",
      "mana : 334\n",
      "melee : 550\n",
      "armor : 18.72\n",
      "[Update] 18.72 > 34.2\n"
     ]
    }
   ],
   "source": [
    "lux = {'health': 490, 'mana': 334, 'melee': 550, 'armor': 18.72}\n",
    "print(lux)\n",
    "\n",
    "for key in lux.keys():\n",
    "    print(key, \":\" , lux[key])\n",
    "    \n",
    "    if key == \"armor\":\n",
    "        print('[Update]',lux[key],end=\" > \")\n",
    "        lux[key] = 34.2\n",
    "        print(lux[key])\n"
   ]
  },
  {
   "cell_type": "code",
   "execution_count": null,
   "metadata": {},
   "outputs": [],
   "source": []
  },
  {
   "cell_type": "markdown",
   "metadata": {},
   "source": [
    "# 실제 데이터 활용 사례"
   ]
  },
  {
   "cell_type": "code",
   "execution_count": null,
   "metadata": {},
   "outputs": [],
   "source": [
    "# phrases = [\"white christmas\", \"white keyboard\",\"happy hour\", \"green leafs\"]\n",
    "word_dict = dict()\n",
    "\n",
    "for phrase in phrases:\n",
    "    for word in phrase.split():\n",
    "        \n",
    "        if word in word_dict:\n",
    "            word_dict[word] += 1\n",
    "        else:\n",
    "            word_dict[word] = 1\n",
    "        \n",
    "print(word_dict)\n"
   ]
  },
  {
   "cell_type": "code",
   "execution_count": null,
   "metadata": {},
   "outputs": [],
   "source": []
  },
  {
   "cell_type": "code",
   "execution_count": 57,
   "metadata": {},
   "outputs": [
    {
     "name": "stdout",
     "output_type": "stream",
     "text": [
      "['white', 'green', 'happy', 'gloomy', 'keyboard', 'hour', 'gym', 'eyes']\n",
      "{'white': 1, 'green': 1, 'happy': 1, 'gloomy': 1, 'keyboard': 1, 'hour': 1, 'gym': 1, 'eyes': 1}\n"
     ]
    }
   ],
   "source": [
    "adj_words = [\"white\",\"green\",\"happy\",\"gloomy\"]\n",
    "noun_words = [\"keyboard\",\"hour\",\"gym\",\"eyes\"]\n",
    "word_dict = dict()\n",
    "\n",
    "words = adj_words + noun_words\n",
    "print(words)\n",
    "\n",
    "for word in words:\n",
    "        \n",
    "        if word in word_dict:\n",
    "            word_dict[word] += 1\n",
    "        else:\n",
    "            word_dict[word] = 1\n",
    "            \n",
    "print(word_dict)"
   ]
  },
  {
   "cell_type": "code",
   "execution_count": null,
   "metadata": {},
   "outputs": [],
   "source": []
  }
 ],
 "metadata": {
  "kernelspec": {
   "display_name": "Python 3",
   "language": "python",
   "name": "python3"
  },
  "language_info": {
   "codemirror_mode": {
    "name": "ipython",
    "version": 3
   },
   "file_extension": ".py",
   "mimetype": "text/x-python",
   "name": "python",
   "nbconvert_exporter": "python",
   "pygments_lexer": "ipython3",
   "version": "3.6.6"
  }
 },
 "nbformat": 4,
 "nbformat_minor": 2
}
