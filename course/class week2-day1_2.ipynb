{
 "cells": [
  {
   "cell_type": "markdown",
   "metadata": {},
   "source": [
    "# 1. 반복문(for)"
   ]
  },
  {
   "cell_type": "markdown",
   "metadata": {},
   "source": [
    "## 1-1 'Hello world' 10번 출력하기."
   ]
  },
  {
   "cell_type": "code",
   "execution_count": 1,
   "metadata": {},
   "outputs": [
    {
     "name": "stdout",
     "output_type": "stream",
     "text": [
      "Hello world\n",
      "Hello world\n",
      "Hello world\n",
      "Hello world\n",
      "Hello world\n",
      "Hello world\n",
      "Hello world\n",
      "Hello world\n",
      "Hello world\n",
      "Hello world\n"
     ]
    }
   ],
   "source": [
    "print('Hello world')\n",
    "print('Hello world')\n",
    "print('Hello world')\n",
    "print('Hello world')\n",
    "print('Hello world')\n",
    "print('Hello world')\n",
    "print('Hello world')\n",
    "print('Hello world')\n",
    "print('Hello world')\n",
    "print('Hello world')"
   ]
  },
  {
   "cell_type": "code",
   "execution_count": 2,
   "metadata": {},
   "outputs": [
    {
     "name": "stdout",
     "output_type": "stream",
     "text": [
      "Hello world\n",
      "Hello world\n",
      "Hello world\n",
      "Hello world\n",
      "Hello world\n",
      "Hello world\n",
      "Hello world\n",
      "Hello world\n",
      "Hello world\n",
      "Hello world\n",
      "9\n"
     ]
    }
   ],
   "source": [
    "# if i == 9:\n",
    "#    반복문을 종료해라.\n",
    "\n",
    "for i in range(10):\n",
    "    print('Hello world')\n",
    "\n",
    "print(i)\n",
    "    \n",
    "#"
   ]
  },
  {
   "cell_type": "code",
   "execution_count": 3,
   "metadata": {},
   "outputs": [
    {
     "data": {
      "text/plain": [
       "range(0, 10)"
      ]
     },
     "execution_count": 3,
     "metadata": {},
     "output_type": "execute_result"
    }
   ],
   "source": [
    "range(10)"
   ]
  },
  {
   "cell_type": "code",
   "execution_count": 4,
   "metadata": {
    "scrolled": true
   },
   "outputs": [
    {
     "name": "stdout",
     "output_type": "stream",
     "text": [
      "Hello, world! 0\n",
      "Hello, world! 1\n",
      "Hello, world! 2\n",
      "Hello, world! 3\n",
      "Hello, world! 4\n",
      "Hello, world! 5\n",
      "Hello, world! 6\n",
      "Hello, world! 7\n",
      "Hello, world! 8\n",
      "Hello, world! 9\n"
     ]
    }
   ],
   "source": [
    "for i in range(10):\n",
    "    print('Hello, world!', i)"
   ]
  },
  {
   "cell_type": "markdown",
   "metadata": {},
   "source": [
    "## 1-2 range()범위 값 사용하기"
   ]
  },
  {
   "cell_type": "code",
   "execution_count": 5,
   "metadata": {},
   "outputs": [
    {
     "data": {
      "text/plain": [
       "range(5, 12)"
      ]
     },
     "execution_count": 5,
     "metadata": {},
     "output_type": "execute_result"
    }
   ],
   "source": [
    "range(5, 12)"
   ]
  },
  {
   "cell_type": "code",
   "execution_count": 6,
   "metadata": {},
   "outputs": [
    {
     "name": "stdout",
     "output_type": "stream",
     "text": [
      "Hello, world! 5\n",
      "Hello, world! 6\n",
      "Hello, world! 7\n",
      "Hello, world! 8\n",
      "Hello, world! 9\n",
      "Hello, world! 10\n",
      "Hello, world! 11\n"
     ]
    }
   ],
   "source": [
    "for i in range(5, 12):    # 5부터 11까지 반복\n",
    "    print('Hello, world!', i)"
   ]
  },
  {
   "cell_type": "markdown",
   "metadata": {},
   "source": [
    "## 1-3 range() 증가폭 사용하기"
   ]
  },
  {
   "cell_type": "code",
   "execution_count": 7,
   "metadata": {},
   "outputs": [
    {
     "name": "stdout",
     "output_type": "stream",
     "text": [
      "Hello, world! 0\n",
      "Hello, world! 2\n",
      "Hello, world! 4\n",
      "Hello, world! 6\n",
      "Hello, world! 8\n"
     ]
    }
   ],
   "source": [
    "for i in range(0, 10, 2):    # 0부터 8까지 2씩 증가\n",
    "    print('Hello, world!', i)"
   ]
  },
  {
   "cell_type": "markdown",
   "metadata": {},
   "source": [
    "## 1-4 range() 숫자 decrease"
   ]
  },
  {
   "cell_type": "code",
   "execution_count": 8,
   "metadata": {},
   "outputs": [
    {
     "name": "stdout",
     "output_type": "stream",
     "text": [
      "Hello, world! 10\n",
      "Hello, world! 9\n",
      "Hello, world! 8\n",
      "Hello, world! 7\n",
      "Hello, world! 6\n",
      "Hello, world! 5\n",
      "Hello, world! 4\n",
      "Hello, world! 3\n",
      "Hello, world! 2\n",
      "Hello, world! 1\n",
      "Hello, world! 0\n"
     ]
    }
   ],
   "source": [
    "for i in range(10, -1,-1):    # range(10, 0)은 동작하지 않음\n",
    "    print('Hello, world!', i)"
   ]
  },
  {
   "cell_type": "markdown",
   "metadata": {},
   "source": [
    "## 1-5 숫자 입력받은 만큼 'hello world'출력하기"
   ]
  },
  {
   "cell_type": "code",
   "execution_count": 46,
   "metadata": {},
   "outputs": [
    {
     "name": "stdout",
     "output_type": "stream",
     "text": [
      "반복할 횟수를 입력하세요: 3\n",
      "Hello, world! 0\n",
      "Hello, world! 1\n",
      "Hello, world! 2\n"
     ]
    }
   ],
   "source": [
    "count = int(input('반복할 횟수를 입력하세요: '))\n",
    "#range(5)\n",
    "for i in range(count):\n",
    "    print('Hello, world!', i)"
   ]
  },
  {
   "cell_type": "markdown",
   "metadata": {},
   "source": [
    "## 1-6 리스트로 반복문 활용하기"
   ]
  },
  {
   "cell_type": "code",
   "execution_count": 10,
   "metadata": {},
   "outputs": [
    {
     "name": "stdout",
     "output_type": "stream",
     "text": [
      "10\n",
      "20\n",
      "30\n",
      "40\n",
      "50\n"
     ]
    }
   ],
   "source": [
    "tempList = [10, 20, 30, 40, 50]\n",
    "for i in tempList:\n",
    "    print(i)"
   ]
  },
  {
   "cell_type": "markdown",
   "metadata": {},
   "source": [
    "### Print elements in each of person's list"
   ]
  },
  {
   "cell_type": "code",
   "execution_count": 11,
   "metadata": {
    "scrolled": true
   },
   "outputs": [
    {
     "name": "stdout",
     "output_type": "stream",
     "text": [
      "james\n",
      "17\n",
      "165.3\n",
      "True\n",
      "\n",
      "dean\n",
      "27\n",
      "175.3\n",
      "True\n"
     ]
    }
   ],
   "source": [
    "person1 = ['james', 17, 165.3, True]\n",
    "person2 = ['dean', 27, 175.3, True]\n",
    "\n",
    "for item in person1:\n",
    "    print(item)\n",
    "\n",
    "print()    \n",
    "    \n",
    "for item in ['dean', 27, 175.3, True]:\n",
    "    print(item)    "
   ]
  },
  {
   "cell_type": "markdown",
   "metadata": {},
   "source": [
    "### 두 사람의 나이의 평균을 구하시오(indexing이용)"
   ]
  },
  {
   "cell_type": "code",
   "execution_count": 12,
   "metadata": {},
   "outputs": [
    {
     "name": "stdout",
     "output_type": "stream",
     "text": [
      "0 james\n",
      "1 17\n",
      "2 165.3\n",
      "3 True\n",
      "Age:  17\n"
     ]
    }
   ],
   "source": [
    "person1 = ['james', 17, 165.3, True]\n",
    "\n",
    "for idx in range(0,len(person1)):\n",
    "    print(idx, person1[idx])\n",
    "\n",
    "    \n",
    "print('Age: ',person1[1])    "
   ]
  },
  {
   "cell_type": "code",
   "execution_count": null,
   "metadata": {},
   "outputs": [],
   "source": []
  },
  {
   "cell_type": "code",
   "execution_count": 16,
   "metadata": {},
   "outputs": [
    {
     "data": {
      "text/plain": [
       "4"
      ]
     },
     "execution_count": 16,
     "metadata": {},
     "output_type": "execute_result"
    }
   ],
   "source": [
    "len(person1)"
   ]
  },
  {
   "cell_type": "code",
   "execution_count": 17,
   "metadata": {},
   "outputs": [
    {
     "name": "stdout",
     "output_type": "stream",
     "text": [
      "Average age of two persons:  22.0\n"
     ]
    }
   ],
   "source": [
    "person1 = ['james', 17, 165.3, True]\n",
    "person2 = ['dean', 27, 175.3, True]\n",
    "\n",
    "for idx in range(0,len(person1)):\n",
    "    if idx == 1:\n",
    "        avgAge = (person1[idx] + person2[idx])/2\n",
    "        \n",
    "print(\"Average age of two persons: \", avgAge)"
   ]
  },
  {
   "cell_type": "code",
   "execution_count": 18,
   "metadata": {},
   "outputs": [
    {
     "name": "stdout",
     "output_type": "stream",
     "text": [
      "apple\torange\tgrape\t"
     ]
    }
   ],
   "source": [
    "fruits = ['apple', 'orange', 'grape']\n",
    "for fruit in fruits:\n",
    "    print(fruit,end=\"\\t\")"
   ]
  },
  {
   "cell_type": "code",
   "execution_count": 19,
   "metadata": {},
   "outputs": [
    {
     "name": "stdout",
     "output_type": "stream",
     "text": [
      "1\n"
     ]
    }
   ],
   "source": [
    "count = 0\n",
    "sampleStr = 'nPython'\n",
    "\n",
    "for letter in sampleStr:\n",
    "    if letter.lower() == 'p':\n",
    "        count = count+1\n",
    "#     print(letter)\n",
    "    \n",
    "print(count)"
   ]
  },
  {
   "cell_type": "code",
   "execution_count": 20,
   "metadata": {},
   "outputs": [
    {
     "data": {
      "text/plain": [
       "2"
      ]
     },
     "execution_count": 20,
     "metadata": {},
     "output_type": "execute_result"
    }
   ],
   "source": [
    "'nPython'.count('n')"
   ]
  },
  {
   "cell_type": "markdown",
   "metadata": {},
   "source": [
    "## 1-7 반복문(while)"
   ]
  },
  {
   "cell_type": "code",
   "execution_count": 21,
   "metadata": {},
   "outputs": [],
   "source": [
    "# 초기식\n",
    "# while 조건식:\n",
    "#      반복할 코드\n",
    "#      변화식"
   ]
  },
  {
   "cell_type": "code",
   "execution_count": 22,
   "metadata": {},
   "outputs": [
    {
     "name": "stdout",
     "output_type": "stream",
     "text": [
      "Hello, world!\n",
      "Hello, world!\n",
      "Hello, world!\n",
      "Hello, world!\n",
      "Hello, world!\n"
     ]
    }
   ],
   "source": [
    "i = 0                     # 초기식\n",
    "while i < 5:            # while 조건식\n",
    "     print('Hello, world!')    # 반복할 코드\n",
    "     i += 1                    # 변화식"
   ]
  },
  {
   "cell_type": "code",
   "execution_count": 24,
   "metadata": {},
   "outputs": [
    {
     "name": "stdout",
     "output_type": "stream",
     "text": [
      "반복할 횟수를 입력하세요: 3\n",
      "Hello, world! 1\n",
      "Hello, world! 2\n",
      "Hello, world! 3\n"
     ]
    }
   ],
   "source": [
    "count = int(input('반복할 횟수를 입력하세요: '))\n",
    "\n",
    "i = 1\n",
    "while i <= count:     # i가 count보다 작을 때 반복\n",
    "    print('Hello, world!', i)\n",
    "    i += 1"
   ]
  },
  {
   "cell_type": "code",
   "execution_count": 25,
   "metadata": {
    "scrolled": true
   },
   "outputs": [
    {
     "name": "stdout",
     "output_type": "stream",
     "text": [
      "james\n",
      "17\n",
      "165.3\n",
      "True\n"
     ]
    }
   ],
   "source": [
    "person1 = ['james', 17, 165.3, True]\n",
    "\n",
    "i = 0\n",
    "while i < len(person1):\n",
    "    print(person1[i])\n",
    "    i += 1"
   ]
  },
  {
   "cell_type": "code",
   "execution_count": 26,
   "metadata": {},
   "outputs": [
    {
     "name": "stdout",
     "output_type": "stream",
     "text": [
      "1\n"
     ]
    }
   ],
   "source": [
    "count = 0\n",
    "sampleStr = 'nPython'\n",
    "i = 0\n",
    "# for letter in sampleStr:\n",
    "while i < len(sampleStr):\n",
    "    letter = sampleStr[i]\n",
    "    if letter.lower() == 'p':\n",
    "        count = count+1\n",
    "    i += 1\n",
    "#     print(letter)\n",
    "    \n",
    "print(count)"
   ]
  },
  {
   "cell_type": "markdown",
   "metadata": {},
   "source": [
    "## 1-8 break, continue"
   ]
  },
  {
   "cell_type": "code",
   "execution_count": 27,
   "metadata": {},
   "outputs": [
    {
     "name": "stdout",
     "output_type": "stream",
     "text": [
      "0\n",
      "1\n",
      "2\n",
      "3\n",
      "4\n",
      "5\n",
      "6\n"
     ]
    }
   ],
   "source": [
    "for i in range(10000):    # 0부터 9999까지 반복\n",
    "    if i == 7:    # i가 100일 때\n",
    "        break       # 반복문을 끝냄. for의 제어흐름을 벗어남\n",
    "    print(i)"
   ]
  },
  {
   "cell_type": "code",
   "execution_count": 28,
   "metadata": {},
   "outputs": [
    {
     "name": "stdout",
     "output_type": "stream",
     "text": [
      "0\n",
      "2\n",
      "4\n",
      "6\n",
      "8\n"
     ]
    }
   ],
   "source": [
    "for i in range(10):    # 0부터 99까지 반복\n",
    "\n",
    "    if i%2 == 1:    # i가 홀수 일때\n",
    "        continue       # 출력하지 않고 skip\n",
    "    else:\n",
    "        print(i)"
   ]
  },
  {
   "cell_type": "markdown",
   "metadata": {},
   "source": [
    "## 1-9 반복문의 무한루프"
   ]
  },
  {
   "cell_type": "code",
   "execution_count": 29,
   "metadata": {},
   "outputs": [
    {
     "name": "stdout",
     "output_type": "stream",
     "text": [
      "0\n",
      "1\n",
      "2\n",
      "3\n"
     ]
    }
   ],
   "source": [
    "i = 0\n",
    "while True:\n",
    "    if i > 3: # escape condition\n",
    "        break\n",
    "        \n",
    "    print(i)\n",
    "    i = i+1\n",
    "    "
   ]
  },
  {
   "cell_type": "markdown",
   "metadata": {},
   "source": [
    "### file read using infinite while loop"
   ]
  },
  {
   "cell_type": "code",
   "execution_count": 30,
   "metadata": {},
   "outputs": [
    {
     "name": "stdout",
     "output_type": "stream",
     "text": [
      "시간 분 초 년 월 일 beginToContact\n",
      "11:20 Nov 12, 2019 M\n",
      "11:20 Nov 12, 2019 F"
     ]
    }
   ],
   "source": [
    "f = open('./sample.txt','r')\n",
    "# print(type(f))\n",
    "\n",
    "# header = f.readline()\n",
    "# header.split('\\n')[0].split()\n",
    "# print(header.split('\\n')[0])\n",
    "# print(header.split('\\n')[0].split())\n",
    "\n",
    "# line = f.readline()\n",
    "# print(line)\n",
    "# print(line.split())\n",
    "\n",
    "while True:\n",
    "    content = f.readline()\n",
    "    print(content,end=\"\")\n",
    "    if len(content) == 0:\n",
    "        break\n",
    "\n",
    "f.close()"
   ]
  },
  {
   "cell_type": "markdown",
   "metadata": {},
   "source": [
    "## 1-10 반복문과 조건문 활용"
   ]
  },
  {
   "cell_type": "markdown",
   "metadata": {},
   "source": [
    "문제 1. input() 함수를 이용하여 사용자에게 1,2,3 또는 그 이외의 값을 입력받아 \n",
    "1. 콜라, 2. 사이다, 3.환타, 기타. \"제공하지 않는 메뉴\"라고 출력하는 프로그램을 작성하시오"
   ]
  },
  {
   "cell_type": "markdown",
   "metadata": {},
   "source": [
    "### 사용자가 선택한 메뉴를 출력한 후 \"다시 입력하시겠습니까?\"를 출력하고 사용자가 \"-1\"을 입력하기 전까지 반복하는 프로그램을 작성하시오.(while문 활용)"
   ]
  },
  {
   "cell_type": "code",
   "execution_count": null,
   "metadata": {},
   "outputs": [],
   "source": [
    "# 출력 결과\n",
    "메뉴를 선택해주세요: 1\n",
    "콜라\n",
    "다시 입력하시겠습니까?(종료: -1 입력)1\n",
    "메뉴를 선택해주세요: 2\n",
    "사이다\n",
    "다시 입력하시겠습니까?(종료: -1 입력)1\n",
    "메뉴를 선택해주세요: 3\n",
    "환타\n",
    "다시 입력하시겠습니까?(종료: -1 입력)1\n",
    "메뉴를 선택해주세요: 4\n",
    "제공하지 않는 메뉴\n",
    "다시 입력하시겠습니까?(종료: -1 입력)-1"
   ]
  },
  {
   "cell_type": "code",
   "execution_count": 33,
   "metadata": {},
   "outputs": [
    {
     "name": "stdout",
     "output_type": "stream",
     "text": [
      "메뉴를 선택해주세요: 1\n",
      "콜라\n",
      "다시 입력하시겠습니까?(종료: -1 입력)-1\n"
     ]
    }
   ],
   "source": [
    " while True:\n",
    "    button = int(input(\"메뉴를 선택해주세요: \"))\n",
    "    \n",
    "    if button == 1:\n",
    "        print('콜라')\n",
    "    elif button == 2:\n",
    "        print('사이다')\n",
    "    elif button == 3:\n",
    "        print('환타')\n",
    "    else:\n",
    "        print('제공하지 않는 메뉴')\n",
    "    \n",
    "    continueLoof = int(input(\"다시 입력하시겠습니까?(종료: -1 입력)\"))\n",
    "    if continueLoof == -1:\n",
    "        break\n",
    "    "
   ]
  },
  {
   "cell_type": "markdown",
   "metadata": {},
   "source": [
    "## 1-11 중첩 반복문"
   ]
  },
  {
   "cell_type": "code",
   "execution_count": null,
   "metadata": {
    "scrolled": true
   },
   "outputs": [],
   "source": [
    "*****\n",
    "*****\n",
    "*****\n",
    "*****\n",
    "*****"
   ]
  },
  {
   "cell_type": "code",
   "execution_count": 36,
   "metadata": {},
   "outputs": [
    {
     "name": "stdout",
     "output_type": "stream",
     "text": [
      "*****\n",
      "*****\n",
      "*****\n",
      "*****\n",
      "*****\n"
     ]
    }
   ],
   "source": [
    "for i in range(5):\n",
    "    print(\"*****\")"
   ]
  },
  {
   "cell_type": "code",
   "execution_count": 37,
   "metadata": {},
   "outputs": [
    {
     "name": "stdout",
     "output_type": "stream",
     "text": [
      "* * * * * > 0\n",
      "* * * * * > 1\n",
      "* * * * * > 2\n",
      "* * * * * > 3\n",
      "* * * * * > 4\n"
     ]
    }
   ],
   "source": [
    "for row in range(5):            # 5번 반복. 바깥쪽 루프는 세로 방향\n",
    "    for col in range(5):        # 5번 반복. 안쪽 루프는 가로 방향\n",
    "        print(\"*\", end=' ')    # 별 출력. end에 ''를 지정하여 줄바꿈을 하지 않음\n",
    "    print(\">\",row)    # 가로 방향으로 별을 다 그린 뒤 다음 줄로 넘어감\n",
    "               # (print는 출력 후 기본적으로 다음 줄로 넘어감)"
   ]
  },
  {
   "cell_type": "markdown",
   "metadata": {},
   "source": [
    "## 문제1: 아래의 출력 결과가 나오도록 중첩 반복문을 작성하시오."
   ]
  },
  {
   "cell_type": "code",
   "execution_count": 38,
   "metadata": {},
   "outputs": [
    {
     "name": "stdout",
     "output_type": "stream",
     "text": [
      "* > 0\n",
      "* > 1\n",
      "* > 2\n",
      "* > 3\n",
      "* > 4\n"
     ]
    }
   ],
   "source": [
    "for row in range(5):            # 5번 반복. 바깥쪽 루프는 세로 방향\n",
    "    for col in range(1):        # 5번 반복. 안쪽 루프는 가로 방향\n",
    "        print(\"*\", end=' ')    # 별 출력. end에 ''를 지정하여 줄바꿈을 하지 않음\n",
    "    print(\">\",row)    # 가로 방향으로 별을 다 그린 뒤 다음 줄로 넘어감\n",
    "               # (print는 출력 후 기본적으로 다음 줄로 넘어감)"
   ]
  },
  {
   "cell_type": "code",
   "execution_count": null,
   "metadata": {
    "scrolled": true
   },
   "outputs": [],
   "source": [
    "*\n",
    "*\n",
    "*\n",
    "*\n",
    "*"
   ]
  },
  {
   "cell_type": "markdown",
   "metadata": {},
   "source": [
    "## 문제2"
   ]
  },
  {
   "cell_type": "code",
   "execution_count": 40,
   "metadata": {},
   "outputs": [
    {
     "name": "stdout",
     "output_type": "stream",
     "text": [
      "* * * * * * * > 0\n",
      "* * * * * * * > 1\n",
      "* * * * * * * > 2\n"
     ]
    }
   ],
   "source": [
    "for row in range(3):            # 5번 반복. 바깥쪽 루프는 세로 방향\n",
    "    for col in range(7):        # 5번 반복. 안쪽 루프는 가로 방향\n",
    "        print(\"*\", end=' ')    # 별 출력. end에 ''를 지정하여 줄바꿈을 하지 않음\n",
    "    print(\">\",row)    # 가로 방향으로 별을 다 그린 뒤 다음 줄로 넘어감\n",
    "               # (print는 출력 후 기본적으로 다음 줄로 넘어감)"
   ]
  },
  {
   "cell_type": "code",
   "execution_count": null,
   "metadata": {
    "scrolled": true
   },
   "outputs": [],
   "source": [
    "*******\n",
    "*******\n",
    "*******"
   ]
  },
  {
   "cell_type": "markdown",
   "metadata": {},
   "source": [
    "## 문제3"
   ]
  },
  {
   "cell_type": "code",
   "execution_count": 42,
   "metadata": {},
   "outputs": [
    {
     "name": "stdout",
     "output_type": "stream",
     "text": [
      "*#### > 0\n",
      "#*### > 1\n",
      "##*## > 2\n",
      "###*# > 3\n",
      "####* > 4\n"
     ]
    }
   ],
   "source": [
    "for row in range(5):            # 5번 반복. 바깥쪽 루프는 세로 방향\n",
    "    for col in range(5):        # 5번 반복. 안쪽 루프는 가로 방향\n",
    "        if row == col:\n",
    "            print(\"*\", end='')    # 별 출력. end에 ''를 지정하여 줄바꿈을 하지 않음\n",
    "        else:\n",
    "            print(\"#\", end='')\n",
    "    print(\" >\",row)    # 가로 방향으로 별을 다 그린 뒤 다음 줄로 넘어감\n",
    "               # (print는 출력 후 기본적으로 다음 줄로 넘어감)"
   ]
  },
  {
   "cell_type": "code",
   "execution_count": null,
   "metadata": {
    "scrolled": true
   },
   "outputs": [],
   "source": [
    "*\n",
    " *\n",
    "  *\n",
    "   *\n",
    "    *"
   ]
  },
  {
   "cell_type": "markdown",
   "metadata": {},
   "source": [
    "### 문제4"
   ]
  },
  {
   "cell_type": "code",
   "execution_count": null,
   "metadata": {},
   "outputs": [],
   "source": [
    "*\n",
    "**\n",
    "***\n",
    "****\n",
    "*****"
   ]
  },
  {
   "cell_type": "code",
   "execution_count": 7,
   "metadata": {},
   "outputs": [
    {
     "name": "stdout",
     "output_type": "stream",
     "text": [
      "*\n",
      "**\n",
      "***\n",
      "****\n",
      "*****\n"
     ]
    }
   ],
   "source": [
    "for row in range(5):\n",
    "    for col in range(5):\n",
    "        if row >= col:\n",
    "            print(\"*\",end=\"\")\n",
    "    print()\n"
   ]
  },
  {
   "cell_type": "code",
   "execution_count": 8,
   "metadata": {},
   "outputs": [
    {
     "name": "stdout",
     "output_type": "stream",
     "text": [
      "*****\n",
      "****\n",
      "***\n",
      "**\n",
      "*\n"
     ]
    }
   ],
   "source": [
    "for row in range(5):\n",
    "    for col in range(5):\n",
    "        if row <= col:\n",
    "            print(\"*\",end=\"\")\n",
    "    print()"
   ]
  },
  {
   "cell_type": "code",
   "execution_count": null,
   "metadata": {},
   "outputs": [],
   "source": []
  },
  {
   "cell_type": "code",
   "execution_count": null,
   "metadata": {},
   "outputs": [],
   "source": []
  },
  {
   "cell_type": "markdown",
   "metadata": {},
   "source": [
    "## 과제1"
   ]
  },
  {
   "cell_type": "code",
   "execution_count": null,
   "metadata": {},
   "outputs": [],
   "source": [
    "*****\n",
    " ****\n",
    "  ***\n",
    "   **\n",
    "    *"
   ]
  },
  {
   "cell_type": "code",
   "execution_count": 11,
   "metadata": {},
   "outputs": [
    {
     "name": "stdout",
     "output_type": "stream",
     "text": [
      "*****\n",
      " ****\n",
      "  ***\n",
      "   **\n",
      "    *\n"
     ]
    }
   ],
   "source": [
    "for row in range(5):\n",
    "    for col in range(5):\n",
    "        if row > col:\n",
    "            print(\" \",end=\"\")\n",
    "        else:\n",
    "            print(\"*\",end=\"\")\n",
    "    print()"
   ]
  },
  {
   "cell_type": "markdown",
   "metadata": {},
   "source": [
    "## 과제2 : 사용자에게 삼각형의 층(floor)수를 입력받아서 해당 층까지 별을 출력하는 프로그램을 작성하시오\n",
    "- input() 함수를 이용하여 사용자 입력을 처리하시오.\n",
    "- 종료 조건 -1"
   ]
  },
  {
   "cell_type": "code",
   "execution_count": null,
   "metadata": {},
   "outputs": [],
   "source": [
    "e.g[1] > 사용자 입력: 3\n",
    "*\n",
    "**\n",
    "***\n",
    "\n",
    "e.g[2] > 사용자 입력: 5\n",
    "*\n",
    "**\n",
    "***\n",
    "****\n",
    "*****"
   ]
  },
  {
   "cell_type": "code",
   "execution_count": null,
   "metadata": {},
   "outputs": [],
   "source": [
    "for row in range(5):\n",
    "    for col in range(5):\n",
    "        if row >= col:\n",
    "            print(\"*\",end=\"\")\n",
    "    print()"
   ]
  },
  {
   "cell_type": "code",
   "execution_count": 13,
   "metadata": {
    "scrolled": true
   },
   "outputs": [
    {
     "name": "stdout",
     "output_type": "stream",
     "text": [
      "사용자 입력: 3\n",
      "*\n",
      "**\n",
      "***\n",
      "사용자 입력: 5\n",
      "*\n",
      "**\n",
      "***\n",
      "****\n",
      "*****\n",
      "사용자 입력: -1\n"
     ]
    }
   ],
   "source": [
    "while True:\n",
    "    floor = int(input(\"사용자 입력: \"))\n",
    "    if floor == -1:\n",
    "        break\n",
    "        \n",
    "    for row in range(floor):\n",
    "        for col in range(floor):\n",
    "            if row >= col:\n",
    "                print(\"*\",end=\"\")\n",
    "        print()\n",
    "    "
   ]
  },
  {
   "cell_type": "markdown",
   "metadata": {},
   "source": [
    "# 추가문제"
   ]
  },
  {
   "cell_type": "code",
   "execution_count": null,
   "metadata": {},
   "outputs": [],
   "source": [
    "###*###\n",
    "##***##\n",
    "#*****#\n",
    "*******"
   ]
  },
  {
   "cell_type": "code",
   "execution_count": 15,
   "metadata": {},
   "outputs": [
    {
     "name": "stdout",
     "output_type": "stream",
     "text": [
      "###*###\n",
      "##***##\n",
      "#*****#\n",
      "*******\n"
     ]
    }
   ],
   "source": [
    "st = int(7/2)\n",
    "ed = int(7/2)\n",
    "# print(st,ed)\n",
    "\n",
    "for row in range(4):\n",
    "    for col in range(7):\n",
    "        if st <= col <= ed:\n",
    "            print(\"*\",end=\"\")\n",
    "        else:\n",
    "            print(\"#\",end=\"\")\n",
    "\n",
    "    print()\n",
    "    st -= 1\n",
    "    ed += 1"
   ]
  },
  {
   "cell_type": "code",
   "execution_count": null,
   "metadata": {},
   "outputs": [],
   "source": []
  },
  {
   "cell_type": "markdown",
   "metadata": {},
   "source": [
    "# general하게 코딩하기"
   ]
  },
  {
   "cell_type": "code",
   "execution_count": null,
   "metadata": {},
   "outputs": [],
   "source": [
    "\n",
    "while True:\n",
    "    floor = int(input(\"Enter a floor of pyramid[quit: -1]: \"))\n",
    "    if floor == -1:\n",
    "        break\n",
    "        \n",
    "    nCols = 2*floor - 1\n",
    "\n",
    "    st = int(nCols/2)\n",
    "    ed = int(nCols/2)\n",
    "    # print(st,ed)\n",
    "\n",
    "    for row in range(floor):\n",
    "        for col in range(nCols):\n",
    "            if st <= col <= ed:\n",
    "                print(\"*\",end=\"\")\n",
    "            else:\n",
    "                print(\" \",end=\"\")\n",
    "\n",
    "        print()\n",
    "        st -= 1;\n",
    "        ed += 1;"
   ]
  },
  {
   "cell_type": "code",
   "execution_count": null,
   "metadata": {},
   "outputs": [],
   "source": []
  },
  {
   "cell_type": "markdown",
   "metadata": {},
   "source": [
    "## 다른 사람 코드"
   ]
  },
  {
   "cell_type": "raw",
   "metadata": {},
   "source": []
  },
  {
   "cell_type": "code",
   "execution_count": 17,
   "metadata": {},
   "outputs": [
    {
     "name": "stdout",
     "output_type": "stream",
     "text": [
      "Enter a floor of pyramid[quit:-1]: 3\n",
      "  *\n",
      " ***\n",
      "*****\n",
      "Enter a floor of pyramid[quit:-1]: 4\n",
      "   *\n",
      "  ***\n",
      " *****\n",
      "*******\n",
      "Enter a floor of pyramid[quit:-1]: -1\n"
     ]
    }
   ],
   "source": [
    "while(1):\n",
    "    userInput = int(input(\"Enter a floor of pyramid[quit:-1]: \"))\n",
    "    if userInput == -1:\n",
    "        break\n",
    "    \n",
    "    for floor in range(userInput):\n",
    "        blink = \" \" * (userInput - floor)\n",
    "        star = \"*\" * (2*floor -1)\n",
    "        print(blink + star)"
   ]
  },
  {
   "cell_type": "code",
   "execution_count": null,
   "metadata": {},
   "outputs": [],
   "source": []
  },
  {
   "cell_type": "code",
   "execution_count": null,
   "metadata": {},
   "outputs": [],
   "source": []
  },
  {
   "cell_type": "markdown",
   "metadata": {},
   "source": [
    "# print diamond"
   ]
  },
  {
   "cell_type": "code",
   "execution_count": null,
   "metadata": {},
   "outputs": [],
   "source": [
    "###*###\n",
    "##***##\n",
    "#*****#\n",
    "*******\n",
    "#*****#\n",
    "##***##\n",
    "###*###"
   ]
  },
  {
   "cell_type": "code",
   "execution_count": 44,
   "metadata": {},
   "outputs": [
    {
     "name": "stdout",
     "output_type": "stream",
     "text": [
      "Enter a floor of diamond(odd)[quit: -1]: 3\n",
      "  *  \n",
      " *** \n",
      "  *  \n",
      "Enter a floor of diamond(odd)[quit: -1]: -1\n"
     ]
    }
   ],
   "source": [
    "\n",
    "while True:\n",
    "    floor = int(input(\"Enter a floor of diamond(odd)[quit: -1]: \"))\n",
    "    if floor == -1:\n",
    "        break\n",
    "        \n",
    "    nCols = 2*floor - 1\n",
    "    mid = int(floor/2) \n",
    "    \n",
    "    st = int(nCols/2)\n",
    "    ed = int(nCols/2)\n",
    "    # print(st,ed)\n",
    "\n",
    "    for row in range(floor):\n",
    "        for col in range(nCols):\n",
    "            if st <= col <= ed:\n",
    "                print(\"*\",end=\"\")\n",
    "            else:\n",
    "                print(\" \",end=\"\")\n",
    "\n",
    "        print()\n",
    "        \n",
    "        if row < mid:\n",
    "            st -= 1;\n",
    "            ed += 1;\n",
    "        else:\n",
    "            st += 1;\n",
    "            ed -= 1;"
   ]
  },
  {
   "cell_type": "code",
   "execution_count": null,
   "metadata": {},
   "outputs": [],
   "source": []
  }
 ],
 "metadata": {
  "kernelspec": {
   "display_name": "Python 3",
   "language": "python",
   "name": "python3"
  },
  "language_info": {
   "codemirror_mode": {
    "name": "ipython",
    "version": 3
   },
   "file_extension": ".py",
   "mimetype": "text/x-python",
   "name": "python",
   "nbconvert_exporter": "python",
   "pygments_lexer": "ipython3",
   "version": "3.6.6"
  }
 },
 "nbformat": 4,
 "nbformat_minor": 2
}
